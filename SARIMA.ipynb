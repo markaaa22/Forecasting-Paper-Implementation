{
 "cells": [
  {
   "cell_type": "code",
   "execution_count": 66,
   "id": "61297426",
   "metadata": {},
   "outputs": [],
   "source": [
    "import pandas as pd\n",
    "import numpy as np\n",
    "import pickle\n",
    "from statsmodels.tsa.statespace.sarimax import SARIMAX\n",
    "from statsmodels.tsa.statespace.sarimax import SARIMAXResults\n",
    "import pmdarima as pm\n",
    "from sklearn.metrics import mean_squared_error\n"
   ]
  },
  {
   "cell_type": "code",
   "execution_count": 67,
   "id": "c22edbb9",
   "metadata": {},
   "outputs": [],
   "source": [
    "data = pd.read_table('SCiBER.txt',delimiter='\\t')"
   ]
  },
  {
   "cell_type": "markdown",
   "id": "c152ae04",
   "metadata": {},
   "source": [
    "# Dropping duplicates"
   ]
  },
  {
   "cell_type": "code",
   "execution_count": 68,
   "id": "93fa1947",
   "metadata": {},
   "outputs": [
    {
     "data": {
      "text/plain": [
       "Date\n",
       "01.01.2013 00:15    1\n",
       "21.04.2014 06:15    1\n",
       "21.04.2014 04:45    1\n",
       "21.04.2014 05:00    1\n",
       "21.04.2014 05:15    1\n",
       "                   ..\n",
       "11.02.2015 13:15    1\n",
       "11.02.2015 13:00    1\n",
       "11.02.2015 12:45    1\n",
       "11.02.2015 12:30    1\n",
       "31.12.2016 23:45    1\n",
       "Length: 140144, dtype: int64"
      ]
     },
     "execution_count": 68,
     "metadata": {},
     "output_type": "execute_result"
    }
   ],
   "source": [
    "data.drop_duplicates(subset=['Date'],keep='last',inplace=True)\n",
    "data.groupby(data['Date']).size().sort_values(ascending=False)"
   ]
  },
  {
   "cell_type": "markdown",
   "id": "dc56a7b9",
   "metadata": {},
   "source": [
    "# Converting the date column to datetimeindex and converting data to float32"
   ]
  },
  {
   "cell_type": "code",
   "execution_count": 69,
   "id": "96100990",
   "metadata": {},
   "outputs": [
    {
     "data": {
      "text/html": [
       "<div>\n",
       "<style scoped>\n",
       "    .dataframe tbody tr th:only-of-type {\n",
       "        vertical-align: middle;\n",
       "    }\n",
       "\n",
       "    .dataframe tbody tr th {\n",
       "        vertical-align: top;\n",
       "    }\n",
       "\n",
       "    .dataframe thead th {\n",
       "        text-align: right;\n",
       "    }\n",
       "</style>\n",
       "<table border=\"1\" class=\"dataframe\">\n",
       "  <thead>\n",
       "    <tr style=\"text-align: right;\">\n",
       "      <th></th>\n",
       "      <th>Date</th>\n",
       "      <th>Garden</th>\n",
       "      <th>School</th>\n",
       "      <th>Tunnel</th>\n",
       "      <th>Other</th>\n",
       "      <th>Other.1</th>\n",
       "      <th>Zoo</th>\n",
       "      <th>Event hall</th>\n",
       "      <th>School.1</th>\n",
       "      <th>School.2</th>\n",
       "      <th>...</th>\n",
       "      <th>School.36</th>\n",
       "      <th>(Pre-)School.2</th>\n",
       "      <th>Other.13</th>\n",
       "      <th>School.37</th>\n",
       "      <th>Office building.18</th>\n",
       "      <th>Gym.2</th>\n",
       "      <th>Gym.3</th>\n",
       "      <th>School.38</th>\n",
       "      <th>School.39</th>\n",
       "      <th>School.40</th>\n",
       "    </tr>\n",
       "    <tr>\n",
       "      <th>Date</th>\n",
       "      <th></th>\n",
       "      <th></th>\n",
       "      <th></th>\n",
       "      <th></th>\n",
       "      <th></th>\n",
       "      <th></th>\n",
       "      <th></th>\n",
       "      <th></th>\n",
       "      <th></th>\n",
       "      <th></th>\n",
       "      <th></th>\n",
       "      <th></th>\n",
       "      <th></th>\n",
       "      <th></th>\n",
       "      <th></th>\n",
       "      <th></th>\n",
       "      <th></th>\n",
       "      <th></th>\n",
       "      <th></th>\n",
       "      <th></th>\n",
       "      <th></th>\n",
       "    </tr>\n",
       "  </thead>\n",
       "  <tbody>\n",
       "    <tr>\n",
       "      <th>2013-01-01 00:15:00</th>\n",
       "      <td>01.01.2013 00:15</td>\n",
       "      <td>9.5</td>\n",
       "      <td>10.4</td>\n",
       "      <td>24.0</td>\n",
       "      <td>48.0</td>\n",
       "      <td>5.0</td>\n",
       "      <td>64.0</td>\n",
       "      <td>29.4</td>\n",
       "      <td>4.2</td>\n",
       "      <td>20.2</td>\n",
       "      <td>...</td>\n",
       "      <td>NaN</td>\n",
       "      <td>NaN</td>\n",
       "      <td>NaN</td>\n",
       "      <td>NaN</td>\n",
       "      <td>NaN</td>\n",
       "      <td>NaN</td>\n",
       "      <td>NaN</td>\n",
       "      <td>NaN</td>\n",
       "      <td>NaN</td>\n",
       "      <td>NaN</td>\n",
       "    </tr>\n",
       "    <tr>\n",
       "      <th>2013-01-01 00:30:00</th>\n",
       "      <td>01.01.2013 00:30</td>\n",
       "      <td>8.6</td>\n",
       "      <td>10.6</td>\n",
       "      <td>24.0</td>\n",
       "      <td>46.0</td>\n",
       "      <td>4.8</td>\n",
       "      <td>66.0</td>\n",
       "      <td>27.2</td>\n",
       "      <td>5.3</td>\n",
       "      <td>20.6</td>\n",
       "      <td>...</td>\n",
       "      <td>NaN</td>\n",
       "      <td>NaN</td>\n",
       "      <td>NaN</td>\n",
       "      <td>NaN</td>\n",
       "      <td>NaN</td>\n",
       "      <td>NaN</td>\n",
       "      <td>NaN</td>\n",
       "      <td>NaN</td>\n",
       "      <td>NaN</td>\n",
       "      <td>NaN</td>\n",
       "    </tr>\n",
       "    <tr>\n",
       "      <th>2013-01-01 00:45:00</th>\n",
       "      <td>01.01.2013 00:45</td>\n",
       "      <td>5.5</td>\n",
       "      <td>10.5</td>\n",
       "      <td>26.0</td>\n",
       "      <td>48.0</td>\n",
       "      <td>4.4</td>\n",
       "      <td>66.0</td>\n",
       "      <td>27.6</td>\n",
       "      <td>4.9</td>\n",
       "      <td>23.0</td>\n",
       "      <td>...</td>\n",
       "      <td>NaN</td>\n",
       "      <td>NaN</td>\n",
       "      <td>NaN</td>\n",
       "      <td>NaN</td>\n",
       "      <td>NaN</td>\n",
       "      <td>NaN</td>\n",
       "      <td>NaN</td>\n",
       "      <td>NaN</td>\n",
       "      <td>NaN</td>\n",
       "      <td>NaN</td>\n",
       "    </tr>\n",
       "    <tr>\n",
       "      <th>2013-01-01 01:00:00</th>\n",
       "      <td>01.01.2013 01:00</td>\n",
       "      <td>5.5</td>\n",
       "      <td>10.5</td>\n",
       "      <td>24.0</td>\n",
       "      <td>48.0</td>\n",
       "      <td>5.4</td>\n",
       "      <td>64.0</td>\n",
       "      <td>27.0</td>\n",
       "      <td>3.9</td>\n",
       "      <td>19.2</td>\n",
       "      <td>...</td>\n",
       "      <td>NaN</td>\n",
       "      <td>NaN</td>\n",
       "      <td>NaN</td>\n",
       "      <td>NaN</td>\n",
       "      <td>NaN</td>\n",
       "      <td>NaN</td>\n",
       "      <td>NaN</td>\n",
       "      <td>NaN</td>\n",
       "      <td>NaN</td>\n",
       "      <td>NaN</td>\n",
       "    </tr>\n",
       "    <tr>\n",
       "      <th>2013-01-01 01:15:00</th>\n",
       "      <td>01.01.2013 01:15</td>\n",
       "      <td>5.4</td>\n",
       "      <td>10.6</td>\n",
       "      <td>22.0</td>\n",
       "      <td>48.0</td>\n",
       "      <td>3.6</td>\n",
       "      <td>62.0</td>\n",
       "      <td>27.0</td>\n",
       "      <td>3.9</td>\n",
       "      <td>19.4</td>\n",
       "      <td>...</td>\n",
       "      <td>NaN</td>\n",
       "      <td>NaN</td>\n",
       "      <td>NaN</td>\n",
       "      <td>NaN</td>\n",
       "      <td>NaN</td>\n",
       "      <td>NaN</td>\n",
       "      <td>NaN</td>\n",
       "      <td>NaN</td>\n",
       "      <td>NaN</td>\n",
       "      <td>NaN</td>\n",
       "    </tr>\n",
       "    <tr>\n",
       "      <th>...</th>\n",
       "      <td>...</td>\n",
       "      <td>...</td>\n",
       "      <td>...</td>\n",
       "      <td>...</td>\n",
       "      <td>...</td>\n",
       "      <td>...</td>\n",
       "      <td>...</td>\n",
       "      <td>...</td>\n",
       "      <td>...</td>\n",
       "      <td>...</td>\n",
       "      <td>...</td>\n",
       "      <td>...</td>\n",
       "      <td>...</td>\n",
       "      <td>...</td>\n",
       "      <td>...</td>\n",
       "      <td>...</td>\n",
       "      <td>...</td>\n",
       "      <td>...</td>\n",
       "      <td>...</td>\n",
       "      <td>...</td>\n",
       "      <td>...</td>\n",
       "    </tr>\n",
       "    <tr>\n",
       "      <th>2016-12-31 23:00:00</th>\n",
       "      <td>31.12.2016 23:00</td>\n",
       "      <td>9.3</td>\n",
       "      <td>10.2</td>\n",
       "      <td>NaN</td>\n",
       "      <td>28.0</td>\n",
       "      <td>NaN</td>\n",
       "      <td>76.0</td>\n",
       "      <td>29.8</td>\n",
       "      <td>6.0</td>\n",
       "      <td>26.6</td>\n",
       "      <td>...</td>\n",
       "      <td>10.300</td>\n",
       "      <td>8.40</td>\n",
       "      <td>3.3</td>\n",
       "      <td>64.500</td>\n",
       "      <td>7.6</td>\n",
       "      <td>2.9</td>\n",
       "      <td>3.6</td>\n",
       "      <td>19.8</td>\n",
       "      <td>3.9</td>\n",
       "      <td>6.0</td>\n",
       "    </tr>\n",
       "    <tr>\n",
       "      <th>2016-12-31 23:15:00</th>\n",
       "      <td>31.12.2016 23:15</td>\n",
       "      <td>9.4</td>\n",
       "      <td>8.8</td>\n",
       "      <td>NaN</td>\n",
       "      <td>28.0</td>\n",
       "      <td>NaN</td>\n",
       "      <td>76.0</td>\n",
       "      <td>36.0</td>\n",
       "      <td>5.8</td>\n",
       "      <td>29.3</td>\n",
       "      <td>...</td>\n",
       "      <td>9.352</td>\n",
       "      <td>8.40</td>\n",
       "      <td>9.4</td>\n",
       "      <td>63.252</td>\n",
       "      <td>7.0</td>\n",
       "      <td>2.9</td>\n",
       "      <td>4.3</td>\n",
       "      <td>18.0</td>\n",
       "      <td>3.8</td>\n",
       "      <td>7.0</td>\n",
       "    </tr>\n",
       "    <tr>\n",
       "      <th>2016-12-31 23:30:00</th>\n",
       "      <td>31.12.2016 23:30</td>\n",
       "      <td>5.8</td>\n",
       "      <td>6.4</td>\n",
       "      <td>NaN</td>\n",
       "      <td>26.0</td>\n",
       "      <td>NaN</td>\n",
       "      <td>80.0</td>\n",
       "      <td>32.2</td>\n",
       "      <td>6.0</td>\n",
       "      <td>28.9</td>\n",
       "      <td>...</td>\n",
       "      <td>9.300</td>\n",
       "      <td>9.24</td>\n",
       "      <td>11.1</td>\n",
       "      <td>64.500</td>\n",
       "      <td>8.5</td>\n",
       "      <td>2.9</td>\n",
       "      <td>3.9</td>\n",
       "      <td>18.6</td>\n",
       "      <td>3.5</td>\n",
       "      <td>7.0</td>\n",
       "    </tr>\n",
       "    <tr>\n",
       "      <th>2016-12-31 23:45:00</th>\n",
       "      <td>31.12.2016 23:45</td>\n",
       "      <td>4.9</td>\n",
       "      <td>6.6</td>\n",
       "      <td>NaN</td>\n",
       "      <td>28.0</td>\n",
       "      <td>NaN</td>\n",
       "      <td>78.0</td>\n",
       "      <td>31.2</td>\n",
       "      <td>5.7</td>\n",
       "      <td>29.3</td>\n",
       "      <td>...</td>\n",
       "      <td>9.300</td>\n",
       "      <td>8.76</td>\n",
       "      <td>11.1</td>\n",
       "      <td>59.252</td>\n",
       "      <td>7.0</td>\n",
       "      <td>2.8</td>\n",
       "      <td>3.8</td>\n",
       "      <td>18.1</td>\n",
       "      <td>4.1</td>\n",
       "      <td>8.0</td>\n",
       "    </tr>\n",
       "    <tr>\n",
       "      <th>2017-01-01 00:00:00</th>\n",
       "      <td>01.01.2017 00:00</td>\n",
       "      <td>7.2</td>\n",
       "      <td>6.2</td>\n",
       "      <td>NaN</td>\n",
       "      <td>28.0</td>\n",
       "      <td>NaN</td>\n",
       "      <td>80.0</td>\n",
       "      <td>31.6</td>\n",
       "      <td>5.7</td>\n",
       "      <td>27.6</td>\n",
       "      <td>...</td>\n",
       "      <td>9.400</td>\n",
       "      <td>9.36</td>\n",
       "      <td>11.0</td>\n",
       "      <td>69.752</td>\n",
       "      <td>7.0</td>\n",
       "      <td>2.8</td>\n",
       "      <td>4.3</td>\n",
       "      <td>18.3</td>\n",
       "      <td>3.9</td>\n",
       "      <td>6.0</td>\n",
       "    </tr>\n",
       "  </tbody>\n",
       "</table>\n",
       "<p>140144 rows × 108 columns</p>\n",
       "</div>"
      ],
      "text/plain": [
       "                                 Date  Garden  School  Tunnel  Other  Other.1  \\\n",
       "Date                                                                            \n",
       "2013-01-01 00:15:00  01.01.2013 00:15     9.5    10.4    24.0   48.0      5.0   \n",
       "2013-01-01 00:30:00  01.01.2013 00:30     8.6    10.6    24.0   46.0      4.8   \n",
       "2013-01-01 00:45:00  01.01.2013 00:45     5.5    10.5    26.0   48.0      4.4   \n",
       "2013-01-01 01:00:00  01.01.2013 01:00     5.5    10.5    24.0   48.0      5.4   \n",
       "2013-01-01 01:15:00  01.01.2013 01:15     5.4    10.6    22.0   48.0      3.6   \n",
       "...                               ...     ...     ...     ...    ...      ...   \n",
       "2016-12-31 23:00:00  31.12.2016 23:00     9.3    10.2     NaN   28.0      NaN   \n",
       "2016-12-31 23:15:00  31.12.2016 23:15     9.4     8.8     NaN   28.0      NaN   \n",
       "2016-12-31 23:30:00  31.12.2016 23:30     5.8     6.4     NaN   26.0      NaN   \n",
       "2016-12-31 23:45:00  31.12.2016 23:45     4.9     6.6     NaN   28.0      NaN   \n",
       "2017-01-01 00:00:00  01.01.2017 00:00     7.2     6.2     NaN   28.0      NaN   \n",
       "\n",
       "                      Zoo  Event hall  School.1  School.2  ...  School.36  \\\n",
       "Date                                                       ...              \n",
       "2013-01-01 00:15:00  64.0        29.4       4.2      20.2  ...        NaN   \n",
       "2013-01-01 00:30:00  66.0        27.2       5.3      20.6  ...        NaN   \n",
       "2013-01-01 00:45:00  66.0        27.6       4.9      23.0  ...        NaN   \n",
       "2013-01-01 01:00:00  64.0        27.0       3.9      19.2  ...        NaN   \n",
       "2013-01-01 01:15:00  62.0        27.0       3.9      19.4  ...        NaN   \n",
       "...                   ...         ...       ...       ...  ...        ...   \n",
       "2016-12-31 23:00:00  76.0        29.8       6.0      26.6  ...     10.300   \n",
       "2016-12-31 23:15:00  76.0        36.0       5.8      29.3  ...      9.352   \n",
       "2016-12-31 23:30:00  80.0        32.2       6.0      28.9  ...      9.300   \n",
       "2016-12-31 23:45:00  78.0        31.2       5.7      29.3  ...      9.300   \n",
       "2017-01-01 00:00:00  80.0        31.6       5.7      27.6  ...      9.400   \n",
       "\n",
       "                     (Pre-)School.2  Other.13  School.37  Office building.18  \\\n",
       "Date                                                                           \n",
       "2013-01-01 00:15:00             NaN       NaN        NaN                 NaN   \n",
       "2013-01-01 00:30:00             NaN       NaN        NaN                 NaN   \n",
       "2013-01-01 00:45:00             NaN       NaN        NaN                 NaN   \n",
       "2013-01-01 01:00:00             NaN       NaN        NaN                 NaN   \n",
       "2013-01-01 01:15:00             NaN       NaN        NaN                 NaN   \n",
       "...                             ...       ...        ...                 ...   \n",
       "2016-12-31 23:00:00            8.40       3.3     64.500                 7.6   \n",
       "2016-12-31 23:15:00            8.40       9.4     63.252                 7.0   \n",
       "2016-12-31 23:30:00            9.24      11.1     64.500                 8.5   \n",
       "2016-12-31 23:45:00            8.76      11.1     59.252                 7.0   \n",
       "2017-01-01 00:00:00            9.36      11.0     69.752                 7.0   \n",
       "\n",
       "                     Gym.2  Gym.3  School.38  School.39  School.40  \n",
       "Date                                                                \n",
       "2013-01-01 00:15:00    NaN    NaN        NaN        NaN        NaN  \n",
       "2013-01-01 00:30:00    NaN    NaN        NaN        NaN        NaN  \n",
       "2013-01-01 00:45:00    NaN    NaN        NaN        NaN        NaN  \n",
       "2013-01-01 01:00:00    NaN    NaN        NaN        NaN        NaN  \n",
       "2013-01-01 01:15:00    NaN    NaN        NaN        NaN        NaN  \n",
       "...                    ...    ...        ...        ...        ...  \n",
       "2016-12-31 23:00:00    2.9    3.6       19.8        3.9        6.0  \n",
       "2016-12-31 23:15:00    2.9    4.3       18.0        3.8        7.0  \n",
       "2016-12-31 23:30:00    2.9    3.9       18.6        3.5        7.0  \n",
       "2016-12-31 23:45:00    2.8    3.8       18.1        4.1        8.0  \n",
       "2017-01-01 00:00:00    2.8    4.3       18.3        3.9        6.0  \n",
       "\n",
       "[140144 rows x 108 columns]"
      ]
     },
     "execution_count": 69,
     "metadata": {},
     "output_type": "execute_result"
    }
   ],
   "source": [
    "data.set_index(pd.to_datetime(data['Date'],format='%d.%m.%Y %H:%M'),inplace=True)\n",
    "data"
   ]
  },
  {
   "cell_type": "markdown",
   "id": "ab7b8204",
   "metadata": {},
   "source": [
    "# Ensuring Data is continous "
   ]
  },
  {
   "cell_type": "code",
   "execution_count": 70,
   "id": "98fef9ed",
   "metadata": {},
   "outputs": [],
   "source": [
    "data = data.asfreq(freq='15min')"
   ]
  },
  {
   "cell_type": "markdown",
   "id": "e5d5b4f8",
   "metadata": {},
   "source": [
    "# Filtering only office buildings "
   ]
  },
  {
   "cell_type": "code",
   "execution_count": 72,
   "id": "eed50e2d",
   "metadata": {},
   "outputs": [],
   "source": [
    "office_data=data.filter(regex='Office')"
   ]
  },
  {
   "cell_type": "markdown",
   "id": "2d223f6e",
   "metadata": {},
   "source": [
    "# Dividing based on missing data (data availability more than 99.9%)"
   ]
  },
  {
   "cell_type": "code",
   "execution_count": 73,
   "id": "edcc21fb",
   "metadata": {},
   "outputs": [],
   "source": [
    "office_filter = (office_data.isnull().sum()*100/len(office_data)).sort_values(ascending=False)"
   ]
  },
  {
   "cell_type": "code",
   "execution_count": 74,
   "id": "e6c91c95",
   "metadata": {},
   "outputs": [],
   "source": [
    "office_filter = office_filter[office_filter<0.1]"
   ]
  },
  {
   "cell_type": "code",
   "execution_count": 75,
   "id": "a95fc20e",
   "metadata": {},
   "outputs": [
    {
     "data": {
      "text/plain": [
       "Office building.15    0.083419\n",
       "Office building.14    0.083419\n",
       "Office building.13    0.083419\n",
       "Office building       0.083419\n",
       "Office building.11    0.083419\n",
       "Office building.10    0.083419\n",
       "Office building.1     0.083419\n",
       "Office building.8     0.083419\n",
       "Office building.5     0.083419\n",
       "Office building.4     0.083419\n",
       "Office building.9     0.083419\n",
       "dtype: float64"
      ]
     },
     "execution_count": 75,
     "metadata": {},
     "output_type": "execute_result"
    }
   ],
   "source": [
    "office_filter"
   ]
  },
  {
   "cell_type": "markdown",
   "id": "12004890",
   "metadata": {},
   "source": [
    "# Using Forward Filling method to fill missing values"
   ]
  },
  {
   "cell_type": "code",
   "execution_count": 76,
   "id": "cbd59901",
   "metadata": {},
   "outputs": [],
   "source": [
    "office_data_filtered = office_data.filter(items=office_filter.index,axis=1)"
   ]
  },
  {
   "cell_type": "code",
   "execution_count": 77,
   "id": "fa9d43f8",
   "metadata": {},
   "outputs": [],
   "source": [
    "office_data_filtered = office_data_filtered.fillna(method='ffill')"
   ]
  },
  {
   "cell_type": "code",
   "execution_count": 78,
   "id": "67a6e4b5",
   "metadata": {},
   "outputs": [
    {
     "data": {
      "text/plain": [
       "Office building.15    0.0\n",
       "Office building.14    0.0\n",
       "Office building.13    0.0\n",
       "Office building       0.0\n",
       "Office building.11    0.0\n",
       "Office building.10    0.0\n",
       "Office building.1     0.0\n",
       "Office building.8     0.0\n",
       "Office building.5     0.0\n",
       "Office building.4     0.0\n",
       "Office building.9     0.0\n",
       "dtype: float64"
      ]
     },
     "execution_count": 78,
     "metadata": {},
     "output_type": "execute_result"
    }
   ],
   "source": [
    "(office_data_filtered.isnull().sum()*100/len(office_data)).sort_values(ascending=False)"
   ]
  },
  {
   "cell_type": "code",
   "execution_count": 79,
   "id": "d9cbdf3f",
   "metadata": {},
   "outputs": [],
   "source": [
    "of_da_fi = office_data_filtered"
   ]
  },
  {
   "cell_type": "code",
   "execution_count": 80,
   "id": "4926b39d",
   "metadata": {},
   "outputs": [
    {
     "data": {
      "text/html": [
       "<div>\n",
       "<style scoped>\n",
       "    .dataframe tbody tr th:only-of-type {\n",
       "        vertical-align: middle;\n",
       "    }\n",
       "\n",
       "    .dataframe tbody tr th {\n",
       "        vertical-align: top;\n",
       "    }\n",
       "\n",
       "    .dataframe thead th {\n",
       "        text-align: right;\n",
       "    }\n",
       "</style>\n",
       "<table border=\"1\" class=\"dataframe\">\n",
       "  <thead>\n",
       "    <tr style=\"text-align: right;\">\n",
       "      <th></th>\n",
       "      <th>Office building.15</th>\n",
       "      <th>Office building.14</th>\n",
       "      <th>Office building.13</th>\n",
       "      <th>Office building</th>\n",
       "      <th>Office building.11</th>\n",
       "      <th>Office building.10</th>\n",
       "      <th>Office building.1</th>\n",
       "      <th>Office building.8</th>\n",
       "      <th>Office building.5</th>\n",
       "      <th>Office building.4</th>\n",
       "      <th>Office building.9</th>\n",
       "    </tr>\n",
       "    <tr>\n",
       "      <th>Date</th>\n",
       "      <th></th>\n",
       "      <th></th>\n",
       "      <th></th>\n",
       "      <th></th>\n",
       "      <th></th>\n",
       "      <th></th>\n",
       "      <th></th>\n",
       "      <th></th>\n",
       "      <th></th>\n",
       "      <th></th>\n",
       "      <th></th>\n",
       "    </tr>\n",
       "  </thead>\n",
       "  <tbody>\n",
       "    <tr>\n",
       "      <th>2013-01-01 00:15:00</th>\n",
       "      <td>27.6</td>\n",
       "      <td>6.3</td>\n",
       "      <td>7.260</td>\n",
       "      <td>16.1</td>\n",
       "      <td>14.4</td>\n",
       "      <td>3.5</td>\n",
       "      <td>76.0</td>\n",
       "      <td>10.9</td>\n",
       "      <td>5.9</td>\n",
       "      <td>46.3</td>\n",
       "      <td>27.4</td>\n",
       "    </tr>\n",
       "    <tr>\n",
       "      <th>2013-01-01 00:30:00</th>\n",
       "      <td>27.8</td>\n",
       "      <td>6.0</td>\n",
       "      <td>7.200</td>\n",
       "      <td>15.7</td>\n",
       "      <td>14.9</td>\n",
       "      <td>3.5</td>\n",
       "      <td>78.0</td>\n",
       "      <td>10.7</td>\n",
       "      <td>5.8</td>\n",
       "      <td>45.7</td>\n",
       "      <td>27.6</td>\n",
       "    </tr>\n",
       "    <tr>\n",
       "      <th>2013-01-01 00:45:00</th>\n",
       "      <td>27.4</td>\n",
       "      <td>5.4</td>\n",
       "      <td>7.832</td>\n",
       "      <td>15.9</td>\n",
       "      <td>12.8</td>\n",
       "      <td>3.5</td>\n",
       "      <td>76.0</td>\n",
       "      <td>10.5</td>\n",
       "      <td>5.8</td>\n",
       "      <td>45.5</td>\n",
       "      <td>28.4</td>\n",
       "    </tr>\n",
       "    <tr>\n",
       "      <th>2013-01-01 01:00:00</th>\n",
       "      <td>27.3</td>\n",
       "      <td>3.6</td>\n",
       "      <td>8.972</td>\n",
       "      <td>15.5</td>\n",
       "      <td>15.7</td>\n",
       "      <td>3.5</td>\n",
       "      <td>78.0</td>\n",
       "      <td>10.1</td>\n",
       "      <td>5.8</td>\n",
       "      <td>45.1</td>\n",
       "      <td>27.4</td>\n",
       "    </tr>\n",
       "    <tr>\n",
       "      <th>2013-01-01 01:15:00</th>\n",
       "      <td>27.5</td>\n",
       "      <td>3.3</td>\n",
       "      <td>8.252</td>\n",
       "      <td>15.4</td>\n",
       "      <td>12.9</td>\n",
       "      <td>3.4</td>\n",
       "      <td>76.0</td>\n",
       "      <td>10.0</td>\n",
       "      <td>5.8</td>\n",
       "      <td>46.1</td>\n",
       "      <td>27.3</td>\n",
       "    </tr>\n",
       "  </tbody>\n",
       "</table>\n",
       "</div>"
      ],
      "text/plain": [
       "                     Office building.15  Office building.14  \\\n",
       "Date                                                          \n",
       "2013-01-01 00:15:00                27.6                 6.3   \n",
       "2013-01-01 00:30:00                27.8                 6.0   \n",
       "2013-01-01 00:45:00                27.4                 5.4   \n",
       "2013-01-01 01:00:00                27.3                 3.6   \n",
       "2013-01-01 01:15:00                27.5                 3.3   \n",
       "\n",
       "                     Office building.13  Office building  Office building.11  \\\n",
       "Date                                                                           \n",
       "2013-01-01 00:15:00               7.260             16.1                14.4   \n",
       "2013-01-01 00:30:00               7.200             15.7                14.9   \n",
       "2013-01-01 00:45:00               7.832             15.9                12.8   \n",
       "2013-01-01 01:00:00               8.972             15.5                15.7   \n",
       "2013-01-01 01:15:00               8.252             15.4                12.9   \n",
       "\n",
       "                     Office building.10  Office building.1  Office building.8  \\\n",
       "Date                                                                            \n",
       "2013-01-01 00:15:00                 3.5               76.0               10.9   \n",
       "2013-01-01 00:30:00                 3.5               78.0               10.7   \n",
       "2013-01-01 00:45:00                 3.5               76.0               10.5   \n",
       "2013-01-01 01:00:00                 3.5               78.0               10.1   \n",
       "2013-01-01 01:15:00                 3.4               76.0               10.0   \n",
       "\n",
       "                     Office building.5  Office building.4  Office building.9  \n",
       "Date                                                                          \n",
       "2013-01-01 00:15:00                5.9               46.3               27.4  \n",
       "2013-01-01 00:30:00                5.8               45.7               27.6  \n",
       "2013-01-01 00:45:00                5.8               45.5               28.4  \n",
       "2013-01-01 01:00:00                5.8               45.1               27.4  \n",
       "2013-01-01 01:15:00                5.8               46.1               27.3  "
      ]
     },
     "execution_count": 80,
     "metadata": {},
     "output_type": "execute_result"
    }
   ],
   "source": [
    "of_da_fi.head()"
   ]
  },
  {
   "cell_type": "markdown",
   "id": "bb2854d4",
   "metadata": {},
   "source": [
    "# We will remove the weekends and keep the time betwwen 5am and 7 pm \n",
    "# One day consists of 56 timesteps as (4 timesteps/hour x 14 hours a day)"
   ]
  },
  {
   "cell_type": "code",
   "execution_count": 81,
   "id": "504cabf9",
   "metadata": {},
   "outputs": [],
   "source": [
    "of_da_fi = of_da_fi[(of_da_fi.index.dayofweek<5) & ((of_da_fi.index.hour>4) & (of_da_fi.index.hour<19))]"
   ]
  },
  {
   "cell_type": "markdown",
   "id": "361ace7f",
   "metadata": {},
   "source": [
    "# We will use 80% of the data for training and rest for testing"
   ]
  },
  {
   "cell_type": "code",
   "execution_count": 83,
   "id": "2c21b910",
   "metadata": {},
   "outputs": [],
   "source": [
    "train_rows = int(of_da_fi.shape[0]*0.80)\n",
    "train = of_da_fi.iloc[:train_rows,:]\n",
    "test = of_da_fi.iloc[train_rows:,:]"
   ]
  },
  {
   "cell_type": "markdown",
   "id": "119573cd",
   "metadata": {},
   "source": [
    "# Using a one office for testing"
   ]
  },
  {
   "cell_type": "code",
   "execution_count": 85,
   "id": "3fc16b58",
   "metadata": {},
   "outputs": [],
   "source": [
    "train_office = train.iloc[:,10]\n",
    "#train_office = train_office.values.flatten()"
   ]
  },
  {
   "cell_type": "markdown",
   "id": "f5d9c4cd",
   "metadata": {},
   "source": [
    "# Lag plot of one of office buildings "
   ]
  },
  {
   "cell_type": "code",
   "execution_count": 86,
   "id": "65b890a3",
   "metadata": {},
   "outputs": [
    {
     "data": {
      "text/plain": [
       "<AxesSubplot:xlabel='y(t)', ylabel='y(t + 56)'>"
      ]
     },
     "execution_count": 86,
     "metadata": {},
     "output_type": "execute_result"
    },
    {
     "data": {
      "image/png": "[encoded data removed]",
      "text/plain": [
       "<Figure size 432x288 with 1 Axes>"
      ]
     },
     "metadata": {
      "needs_background": "light"
     },
     "output_type": "display_data"
    }
   ],
   "source": [
    "pd.plotting.lag_plot(train_office,lag=56*1)\n"
   ]
  },
  {
   "cell_type": "code",
   "execution_count": 87,
   "id": "e13ce376",
   "metadata": {},
   "outputs": [
    {
     "name": "stdout",
     "output_type": "stream",
     "text": [
      "Performing stepwise search to minimize aic\n",
      " ARIMA(1,1,2)(1,0,2)[56] intercept   : AIC=inf, Time=5821.41 sec\n",
      " ARIMA(0,1,0)(0,0,0)[56] intercept   : AIC=234246.374, Time=1.75 sec\n",
      " ARIMA(1,1,0)(1,0,0)[56] intercept   : AIC=inf, Time=232.17 sec\n",
      " ARIMA(0,1,1)(0,0,1)[56] intercept   : AIC=224082.227, Time=196.02 sec\n",
      " ARIMA(0,1,0)(0,0,0)[56]             : AIC=234244.378, Time=0.39 sec\n",
      " ARIMA(0,1,1)(0,0,0)[56] intercept   : AIC=231483.629, Time=7.49 sec\n",
      " ARIMA(0,1,1)(1,0,1)[56] intercept   : AIC=inf, Time=640.49 sec\n",
      " ARIMA(0,1,1)(0,0,2)[56] intercept   : AIC=219822.728, Time=1119.13 sec\n",
      " ARIMA(0,1,1)(1,0,2)[56] intercept   : AIC=inf, Time=3479.06 sec\n",
      " ARIMA(0,1,0)(0,0,2)[56] intercept   : AIC=219820.754, Time=1213.78 sec\n",
      " ARIMA(0,1,0)(0,0,1)[56] intercept   : AIC=224395.177, Time=223.56 sec\n",
      " ARIMA(0,1,0)(1,0,2)[56] intercept   : AIC=inf, Time=2949.67 sec\n",
      " ARIMA(0,1,0)(1,0,1)[56] intercept   : AIC=inf, Time=594.41 sec\n",
      " ARIMA(1,1,0)(0,0,2)[56] intercept   : AIC=219822.718, Time=1381.29 sec\n",
      " ARIMA(1,1,1)(0,0,2)[56] intercept   : AIC=inf, Time=5992.07 sec\n",
      " ARIMA(0,1,0)(0,0,2)[56]             : AIC=219818.756, Time=231.32 sec\n",
      " ARIMA(0,1,0)(0,0,1)[56]             : AIC=224393.180, Time=49.52 sec\n",
      " ARIMA(0,1,0)(1,0,2)[56]             : AIC=inf, Time=731.15 sec\n",
      " ARIMA(0,1,0)(1,0,1)[56]             : AIC=inf, Time=130.54 sec\n",
      " ARIMA(1,1,0)(0,0,2)[56]             : AIC=219820.720, Time=301.84 sec\n",
      " ARIMA(0,1,1)(0,0,2)[56]             : AIC=219820.730, Time=302.37 sec\n",
      " ARIMA(1,1,1)(0,0,2)[56]             : AIC=inf, Time=1577.32 sec\n",
      "\n",
      "Best model:  ARIMA(0,1,0)(0,0,2)[56]          \n",
      "Total fit time: 27176.938 seconds\n"
     ]
    }
   ],
   "source": [
    "model = pm.auto_arima(train_office,\n",
    "                      m=56,\n",
    "                      seasonal=True,\n",
    "                      d=1,\n",
    "                      start_p=1,\n",
    "                      start_q=2,\n",
    "                      start_P=1,\n",
    "                      start_Q=2,\n",
    "                     max_p=2,\n",
    "                     max_q=2,\n",
    "                     max_order=10,\n",
    "                     trace=True,\n",
    "                    low_memory=True,\n",
    "                      stepwise=True\n",
    "                     )"
   ]
  },
  {
   "cell_type": "code",
   "execution_count": 118,
   "id": "0866d431",
   "metadata": {},
   "outputs": [],
   "source": [
    "with open('best_fit.pkl','wb') as pkl:\n",
    "    pickle.dump(model,pkl)"
   ]
  },
  {
   "cell_type": "markdown",
   "id": "81f012bc",
   "metadata": {},
   "source": [
    "# We will predict on the best fitted model and calculated RMSE"
   ]
  },
  {
   "cell_type": "code",
   "execution_count": 117,
   "id": "ae9d1bef",
   "metadata": {},
   "outputs": [
    {
     "name": "stderr",
     "output_type": "stream",
     "text": [
      "C:\\ProgramData\\Anaconda3\\lib\\site-packages\\statsmodels\\tsa\\base\\tsa_model.py:834: ValueWarning: No supported index is available. Prediction results will be given with an integer index beginning at `start`.\n",
      "  return get_prediction_index(\n"
     ]
    },
    {
     "data": {
      "text/plain": [
       "16.638533286151056"
      ]
     },
     "execution_count": 117,
     "metadata": {},
     "output_type": "execute_result"
    }
   ],
   "source": [
    "forecast=model.predict(n_periods=int(test.shape[0]))\n",
    "mean_squared_error(test.iloc[:,10],forecast,squared=False)"
   ]
  }
 ],
 "metadata": {
  "kernelspec": {
   "display_name": "Python 3 (ipykernel)",
   "language": "python",
   "name": "python3"
  },
  "language_info": {
   "codemirror_mode": {
    "name": "ipython",
    "version": 3
   },
   "file_extension": ".py",
   "mimetype": "text/x-python",
   "name": "python",
   "nbconvert_exporter": "python",
   "pygments_lexer": "ipython3",
   "version": "3.9.12"
  }
 },
 "nbformat": 4,
 "nbformat_minor": 5
}
